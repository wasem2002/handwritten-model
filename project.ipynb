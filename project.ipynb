{
 "cells": [
  {
   "cell_type": "code",
   "execution_count": 1,
   "id": "b14cff91",
   "metadata": {},
   "outputs": [],
   "source": [
    "import numpy as np\n",
    "import torch\n",
    "import torch.nn as nn\n",
    "import torch.optim as optim\n",
    "from torch.utils.data import DataLoader, TensorDataset\n",
    "import scipy.io\n",
    "from torchvision import datasets, transforms\n",
    "import matplotlib.pyplot as plt"
   ]
  },
  {
   "cell_type": "code",
   "execution_count": 2,
   "id": "a67a9895",
   "metadata": {},
   "outputs": [
    {
     "name": "stdout",
     "output_type": "stream",
     "text": [
      "Using device: cpu\n"
     ]
    }
   ],
   "source": [
    "# Set device\n",
    "device = torch.device('cuda' if torch.cuda.is_available() else 'cpu')\n",
    "print(f\"Using device: {device}\")\n"
   ]
  },
  {
   "cell_type": "code",
   "execution_count": null,
   "id": "b7c9e4d3",
   "metadata": {},
   "outputs": [],
   "source": [
    "# ====================== DATA LOADING ======================\n",
    "\n",
    "def load_emnist_digits(path='emnist-digits.mat'):\n",
    "    data = scipy.io.loadmat(path)\n",
    "    \n",
    "    # Access MATLAB structure \n",
    "    train_images = data['dataset']['train'][0][0]['images'][0][0]\n",
    "    train_labels = data['dataset']['train'][0][0]['labels'][0][0]\n",
    "    test_images = data['dataset']['test'][0][0]['images'][0][0]\n",
    "    test_labels = data['dataset']['test'][0][0]['labels'][0][0]\n",
    "    \n",
    "    # Some preprocessing\n",
    "    x_train = train_images.reshape(-1, 28, 28).transpose(0, 2, 1).astype(np.float32)\n",
    "    y_train = train_labels.flatten().astype(np.int64)\n",
    "    x_test = test_images.reshape(-1, 28, 28).transpose(0, 2, 1).astype(np.float32)\n",
    "    y_test = test_labels.flatten().astype(np.int64)\n",
    "    \n",
    "    # Normalization\n",
    "    x_train /= 255.0\n",
    "    x_test /= 255.0\n",
    "    \n",
    "    return x_train, y_train, x_test, y_test"
   ]
  },
  {
   "cell_type": "code",
   "execution_count": null,
   "id": "604086b0",
   "metadata": {},
   "outputs": [],
   "source": [
    "def prepare_emnist():\n",
    "    x_train, y_train, x_test, y_test = load_emnist_digits()\n",
    "    \n",
    "    # Convert to PyTorch tensors\n",
    "    train_data = TensorDataset(\n",
    "        torch.from_numpy(x_train).unsqueeze(1),  # Add channel dimension\n",
    "        torch.from_numpy(y_train)\n",
    "    )\n",
    "    test_data = TensorDataset(\n",
    "        torch.from_numpy(x_test).unsqueeze(1),\n",
    "        torch.from_numpy(y_test)\n",
    "    )\n",
    "    \n",
    "    return (\n",
    "        DataLoader(train_data, batch_size=128, shuffle=True),\n",
    "        DataLoader(test_data, batch_size=128, shuffle=False)\n",
    "    )"
   ]
  },
  {
   "cell_type": "code",
   "execution_count": null,
   "id": "6bf670d2",
   "metadata": {},
   "outputs": [],
   "source": [
    "# ready to use no need for pre processing\n",
    "def prepare_mnist():\n",
    "    transform = transforms.Compose([\n",
    "        transforms.ToTensor(),\n",
    "        transforms.Normalize((0.1307,), (0.3081,))\n",
    "    ])\n",
    "    \n",
    "    train_set = datasets.MNIST(root='./data', train=True, download=True, transform=transform)\n",
    "    test_set = datasets.MNIST(root='./data', train=False, download=True, transform=transform)\n",
    "    \n",
    "    return (\n",
    "        DataLoader(train_set, batch_size=128, shuffle=True),\n",
    "        DataLoader(test_set, batch_size=128, shuffle=False)\n",
    "    )"
   ]
  },
  {
   "cell_type": "code",
   "execution_count": null,
   "id": "fba34a28",
   "metadata": {},
   "outputs": [],
   "source": [
    "# ====================== ANN MODEL DEFINITION ====================== #\n",
    "\n",
    "class DigitRecognizer(nn.Module):\n",
    "    def __init__(self):\n",
    "        super().__init__()\n",
    "        self.flatten = nn.Flatten()\n",
    "        self.network = nn.Sequential(  \n",
    "            nn.Linear(28*28, 512),\n",
    "            nn.ReLU(),\n",
    "            nn.Linear(512, 256),\n",
    "            nn.ReLU(),\n",
    "            nn.Linear(256, 10)\n",
    "            )\n",
    "    \n",
    "    def forward(self, x):\n",
    "        x = self.flatten(x)\n",
    "        return self.network(x)\n"
   ]
  },
  {
   "cell_type": "code",
   "execution_count": null,
   "id": "0fe19ab9",
   "metadata": {},
   "outputs": [],
   "source": [
    "# training loop\n",
    "def train_model(model, train_loader, criterion, optimizer, epochs=10):\n",
    "    model.train()\n",
    "    for epoch in range(epochs):\n",
    "        running_loss = 0.0\n",
    "        for images, labels in train_loader:\n",
    "            images, labels = images.to(device), labels.to(device)\n",
    "            \n",
    "            optimizer.zero_grad()\n",
    "            outputs = model(images)\n",
    "            loss = criterion(outputs, labels)\n",
    "            loss.backward()\n",
    "            optimizer.step()\n",
    "            \n",
    "            running_loss += loss.item()\n",
    "        \n",
    "        print(f\"Epoch {epoch+1}/{epochs}, Loss: {running_loss/len(train_loader):.4f}\")"
   ]
  },
  {
   "cell_type": "code",
   "execution_count": null,
   "id": "744c9615",
   "metadata": {},
   "outputs": [],
   "source": [
    "\n",
    "def evaluate_model(model, test_loader, dataset_name):\n",
    "    \"\"\"Evaluation function\"\"\"\n",
    "    model.eval()\n",
    "    correct = 0\n",
    "    total = 0\n",
    "    with torch.no_grad():\n",
    "        for images, labels in test_loader:\n",
    "            images, labels = images.to(device), labels.to(device)\n",
    "            outputs = model(images)\n",
    "            _, predicted = torch.max(outputs.data, 1)\n",
    "            total += labels.size(0)\n",
    "            correct += (predicted == labels).sum().item()\n",
    "    \n",
    "    accuracy = 100 * correct / total\n",
    "    #print(f\"{dataset_name} Test Accuracy: {accuracy:.2f}%\")\n",
    "    return accuracy\n"
   ]
  },
  {
   "cell_type": "code",
   "execution_count": null,
   "id": "464e6c6e",
   "metadata": {},
   "outputs": [
    {
     "name": "stdout",
     "output_type": "stream",
     "text": [
      "\n",
      "Training MNIST model...\n",
      "Epoch 1/10, Loss: 0.2291\n",
      "Epoch 2/10, Loss: 0.0871\n",
      "Epoch 3/10, Loss: 0.0605\n",
      "Epoch 4/10, Loss: 0.0425\n",
      "Epoch 5/10, Loss: 0.0334\n",
      "Epoch 6/10, Loss: 0.0283\n",
      "Epoch 7/10, Loss: 0.0255\n",
      "Epoch 8/10, Loss: 0.0195\n",
      "Epoch 9/10, Loss: 0.0169\n",
      "Epoch 10/10, Loss: 0.0158\n",
      "MNIST Model Accuracy: 98.22%\n"
     ]
    }
   ],
   "source": [
    "# ====================== EXECUTION ======================\n",
    "\n",
    "model_mnist = DigitRecognizer().to(device)\n",
    "\n",
    "\n",
    "# Loss and optimizers\n",
    "criterion = nn.CrossEntropyLoss()\n",
    "optimizer_mnist = optim.Adam(model_mnist.parameters(), lr=0.001)\n",
    "\n",
    "# Prepare datasets\n",
    "mnist_train, mnist_test = prepare_mnist()\n",
    "\n",
    "\n",
    "# Train and evaluate MNIST model\n",
    "print(\"\\nTraining MNIST model...\")\n",
    "train_model(model_mnist, mnist_train, criterion, optimizer_mnist, epochs=10)\n",
    "mnist_acc = evaluate_model(model_mnist, mnist_test, \"MNIST\")\n",
    "\n",
    "\n",
    "# Accuracy\n",
    "print(f\"MNIST Model Accuracy: {mnist_acc:.2f}%\")\n",
    "\n",
    "\n",
    "# Save models\n",
    "#torch.save(model_mnist.state_dict(), 'mnist_model.pth')\n",
    "\n"
   ]
  },
  {
   "cell_type": "code",
   "execution_count": null,
   "id": "43cce6ae",
   "metadata": {},
   "outputs": [
    {
     "name": "stdout",
     "output_type": "stream",
     "text": [
      "\n",
      "Training EMNIST model...\n",
      "Epoch 1/10, Loss: 0.1186\n",
      "Epoch 2/10, Loss: 0.0464\n",
      "Epoch 3/10, Loss: 0.0339\n",
      "Epoch 4/10, Loss: 0.0273\n",
      "Epoch 5/10, Loss: 0.0223\n",
      "Epoch 6/10, Loss: 0.0191\n",
      "Epoch 7/10, Loss: 0.0161\n",
      "Epoch 8/10, Loss: 0.0138\n",
      "Epoch 9/10, Loss: 0.0127\n",
      "Epoch 10/10, Loss: 0.0108\n",
      "EMNIST Model Accuracy: 98.91%\n",
      "\n",
      "Models saved to emnist_model.pth\n"
     ]
    }
   ],
   "source": [
    "\n",
    "\n",
    "# Initialize models\n",
    "\n",
    "model_emnist = DigitRecognizer().to(device)\n",
    "\n",
    "# Loss and optimizers\n",
    "optimizer_emnist = optim.Adam(model_emnist.parameters(), lr=0.001)\n",
    "\n",
    "# Prepare datasets\n",
    "emnist_train, emnist_test = prepare_emnist()\n",
    "\n",
    "\n",
    "\n",
    "# Train and evaluate EMNIST model\n",
    "print(\"\\nTraining EMNIST model...\")\n",
    "train_model(model_emnist, emnist_train, criterion, optimizer_emnist, epochs=10)\n",
    "emnist_acc = evaluate_model(model_emnist, emnist_test, \"EMNIST\")\n",
    "\n",
    "# Accuracy\n",
    "print(f\"EMNIST Model Accuracy: {emnist_acc:.2f}%\")\n",
    "\n",
    "# Save models\n",
    "\n",
    "#torch.save(model_emnist.state_dict(), 'emnist_model.pth')\n",
    "#print(\"\\nModels saved to emnist_model.pth\")"
   ]
  },
  {
   "cell_type": "code",
   "execution_count": null,
   "id": "4e82abe9",
   "metadata": {},
   "outputs": [],
   "source": [
    "# ====================== CNN MODEL ======================\n",
    "class DigitCNN(nn.Module):\n",
    "    def __init__(self):\n",
    "        super().__init__()\n",
    "        self.features = nn.Sequential(\n",
    "            #28x28\n",
    "            nn.Conv2d(1, 32, kernel_size=3, padding=1),\n",
    "                # 28x28x32\n",
    "            nn.ReLU(),\n",
    "            # 28x28x32\n",
    "            nn.MaxPool2d(2),  \n",
    "            # 14x14x32\n",
    "            \n",
    "            nn.Conv2d(32, 64, kernel_size=3, padding=1),  \n",
    "            # 14x14x64\n",
    "            nn.ReLU(),\n",
    "            # 14x14x64\n",
    "            nn.MaxPool2d(2) \n",
    "            # 7x7x64\n",
    "        )\n",
    "        self.classifier = nn.Sequential(\n",
    "            nn.Flatten(),\n",
    "            nn.Linear(7*7*64, 128),\n",
    "            nn.ReLU(),\n",
    "            nn.Linear(128, 10)\n",
    "        )\n",
    "    def forward(self, x):\n",
    "        x = self.features(x)\n",
    "        return self.classifier(x)"
   ]
  },
  {
   "cell_type": "code",
   "execution_count": null,
   "id": "333a0950",
   "metadata": {},
   "outputs": [
    {
     "name": "stdout",
     "output_type": "stream",
     "text": [
      "\n",
      "Training MNIST CNN model...\n",
      "Epoch 1/10, Loss: 0.1643\n",
      "Epoch 2/10, Loss: 0.0475\n",
      "Epoch 3/10, Loss: 0.0348\n",
      "Epoch 4/10, Loss: 0.0242\n",
      "Epoch 5/10, Loss: 0.0186\n",
      "Epoch 6/10, Loss: 0.0155\n",
      "Epoch 7/10, Loss: 0.0126\n",
      "Epoch 8/10, Loss: 0.0105\n",
      "Epoch 9/10, Loss: 0.0096\n",
      "Epoch 10/10, Loss: 0.0057\n",
      "MNIST CNN Accuracy: 99.13%\n"
     ]
    }
   ],
   "source": [
    "\n",
    "# Initialize models\n",
    "cnn_mnist = DigitCNN().to(device)\n",
    "\n",
    "\n",
    "# Loss and optimizers\n",
    "\n",
    "optimizer_mnist = optim.Adam(cnn_mnist.parameters(), lr=0.001)\n",
    "\n",
    "\n",
    "\n",
    "\n",
    "# Train and evaluate MNIST model\n",
    "print(\"\\nTraining MNIST CNN model...\")\n",
    "train_model(cnn_mnist, mnist_train, criterion, optimizer_mnist, epochs=10)\n",
    "mnist_acc = evaluate_model(cnn_mnist, mnist_test, \"MNIST\")\n",
    "\n",
    "\n",
    "# Accuracy\n",
    "print(f\"MNIST CNN Accuracy: {mnist_acc:.2f}%\")\n",
    "\n",
    "\n",
    "# Save models\n",
    "#torch.save(cnn_mnist.state_dict(), 'cnn_mnist.pth')\n"
   ]
  },
  {
   "cell_type": "code",
   "execution_count": null,
   "id": "549de7c2",
   "metadata": {},
   "outputs": [
    {
     "name": "stdout",
     "output_type": "stream",
     "text": [
      "\n",
      "Training EMNIST CNN model...\n",
      "Epoch 1/10, Loss: 0.0793\n",
      "Epoch 2/10, Loss: 0.0268\n",
      "Epoch 3/10, Loss: 0.0198\n",
      "Epoch 4/10, Loss: 0.0154\n",
      "Epoch 5/10, Loss: 0.0122\n",
      "Epoch 6/10, Loss: 0.0094\n",
      "Epoch 7/10, Loss: 0.0074\n",
      "Epoch 8/10, Loss: 0.0063\n",
      "Epoch 9/10, Loss: 0.0048\n",
      "Epoch 10/10, Loss: 0.0041\n",
      "EMNIST CNN Accuracy: 99.45%\n"
     ]
    }
   ],
   "source": [
    "\n",
    "\n",
    "# Initialize models\n",
    "cnn_emnist = DigitCNN().to(device)\n",
    "\n",
    "# Loss and optimizers\n",
    "\n",
    "\n",
    "optimizer_emnist = optim.Adam(cnn_emnist.parameters(), lr=0.001)\n",
    "\n",
    "\n",
    "# Train and evaluate EMNIST model\n",
    "print(\"\\nTraining EMNIST CNN model...\")\n",
    "train_model(cnn_emnist, emnist_train, criterion, optimizer_emnist, epochs=10)\n",
    "emnist_acc = evaluate_model(cnn_emnist, emnist_test, \"EMNIST\")\n",
    "\n",
    "# Accuracy\n",
    "print(f\"EMNIST CNN Accuracy: {emnist_acc:.2f}%\")\n",
    "\n",
    "# Save models\n",
    "\n",
    "#torch.save(cnn_emnist.state_dict(), 'cnn_emnist.pth')\n"
   ]
  },
  {
   "cell_type": "code",
   "execution_count": 17,
   "id": "5005eb45",
   "metadata": {},
   "outputs": [],
   "source": [
    "import cv2\n",
    "import torch.nn.functional as F\n",
    "from PIL import Image\n",
    "import numpy as np\n",
    "\n",
    "def predict_digit(image_path, model_path='cnn_emnist.pth', model_type='cnn'):\n",
    "\n",
    "    # Load the appropriate model\n",
    "    if model_type == 'cnn':\n",
    "        model = DigitCNN()\n",
    "    else:\n",
    "        model = DigitRecognizer()\n",
    "    \n",
    "    model.load_state_dict(torch.load(model_path))\n",
    "    model.to(device)\n",
    "    model.eval()\n",
    "    \n",
    "    # Preprocess the image\n",
    "    image = Image.open(image_path).convert('L')  # Convert to grayscale\n",
    "    image = image.resize((28, 28))  # Resize to 28x28\n",
    "    \n",
    "    # Convert to numpy array and normalize\n",
    "    image_array = np.array(image)\n",
    "    image_array = image_array.astype(np.float32) / 255.0\n",
    "    \n",
    "    # Invert colors if needed (MNIST/EMNIST digits are white on black background)\n",
    "    if np.mean(image_array) > 0.5:  # If background is lighter than foreground\n",
    "        image_array = 1 - image_array\n",
    "    \n",
    "    # Add batch and channel dimensions\n",
    "    if model_type == 'cnn':\n",
    "        image_tensor = torch.from_numpy(image_array).unsqueeze(0).unsqueeze(0)  # Shape: [1, 1, 28, 28]\n",
    "    else:\n",
    "        image_tensor = torch.from_numpy(image_array).unsqueeze(0)  # Shape: [1, 28, 28]\n",
    "    \n",
    "    image_tensor = image_tensor.to(device)\n",
    "    \n",
    "    # Make prediction\n",
    "    with torch.no_grad():\n",
    "        output = model(image_tensor)\n",
    "        probabilities = F.softmax(output, dim=1)\n",
    "        confidence, prediction = torch.max(probabilities, 1)\n",
    "    \n",
    "    return prediction.item(), confidence.item()\n",
    "\n",
    "def show_prediction(image_path, model_path='cnn_emnist.pth', model_type='cnn'):\n",
    "    digit, confidence = predict_digit(image_path, model_path, model_type)\n",
    "    \n",
    "    # Display the image\n",
    "    image = Image.open(image_path)\n",
    "    plt.imshow(image, cmap='gray')\n",
    "    plt.axis('off')\n",
    "    plt.title(f'Predicted: {digit} (Confidence: {confidence:.2%})')\n",
    "    plt.show()\n",
    "    \n",
    "    return digit, confidence"
   ]
  },
  {
   "cell_type": "code",
   "execution_count": 18,
   "id": "f9565fee",
   "metadata": {},
   "outputs": [
    {
     "name": "stderr",
     "output_type": "stream",
     "text": [
      "C:\\Users\\hello\\AppData\\Local\\Temp\\ipykernel_19120\\3222740756.py:14: FutureWarning: You are using `torch.load` with `weights_only=False` (the current default value), which uses the default pickle module implicitly. It is possible to construct malicious pickle data which will execute arbitrary code during unpickling (See https://github.com/pytorch/pytorch/blob/main/SECURITY.md#untrusted-models for more details). In a future release, the default value for `weights_only` will be flipped to `True`. This limits the functions that could be executed during unpickling. Arbitrary objects will no longer be allowed to be loaded via this mode unless they are explicitly allowlisted by the user via `torch.serialization.add_safe_globals`. We recommend you start setting `weights_only=True` for any use case where you don't have full control of the loaded file. Please open an issue on GitHub for any issues related to this experimental feature.\n",
      "  model.load_state_dict(torch.load(model_path))\n"
     ]
    },
    {
     "name": "stdout",
     "output_type": "stream",
     "text": [
      "Predicted digit: 5 with confidence 64.49%\n"
     ]
    },
    {
     "data": {
      "image/png": "[encoded data removed]",
      "text/plain": [
       "<Figure size 640x480 with 1 Axes>"
      ]
     },
     "metadata": {},
     "output_type": "display_data"
    },
    {
     "data": {
      "text/plain": [
       "(5, 0.6449324488639832)"
      ]
     },
     "execution_count": 18,
     "metadata": {},
     "output_type": "execute_result"
    }
   ],
   "source": [
    "# For simple prediction\n",
    "digit, confidence = predict_digit('n.jpg')\n",
    "print(f\"Predicted digit: {digit} with confidence {confidence:.2%}\")\n",
    "\n",
    "# For visualization\n",
    "show_prediction('n.jpg')"
   ]
  }
 ],
 "metadata": {
  "kernelspec": {
   "display_name": "base",
   "language": "python",
   "name": "python3"
  },
  "language_info": {
   "codemirror_mode": {
    "name": "ipython",
    "version": 3
   },
   "file_extension": ".py",
   "mimetype": "text/x-python",
   "name": "python",
   "nbconvert_exporter": "python",
   "pygments_lexer": "ipython3",
   "version": "3.12.4"
  }
 },
 "nbformat": 4,
 "nbformat_minor": 5
}
